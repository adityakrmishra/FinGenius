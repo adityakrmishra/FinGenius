{
 "cells": [
  {
   "cell_type": "markdown",
   "metadata": {},
   "source": [
    "# %% [markdown]\n",
    "# # Market Analysis Notebook\n",
    "# ## Comprehensive Financial Market Analysis Toolkit\n"
   ]
  },
  {
   "cell_type": "markdown",
   "metadata": {},
   "source": [
    "# %%\n",
    "# Setup Environment"
   ]
  },
  {
   "cell_type": "code",
   "execution_count": null,
   "metadata": {
    "vscode": {
     "languageId": "plaintext"
    }
   },
   "outputs": [],
   "source": [
    "%matplotlib inline\n",
    "import numpy as np\n",
    "import pandas as pd\n",
    "import matplotlib.pyplot as plt\n",
    "import seaborn as sns\n",
    "import plotly.express as px\n",
    "from src.data_pipeline.data_ingestor import DataIngestor\n",
    "from src.simulation.visualizer import Visualizer\n",
    "\n",
    "plt.style.use('seaborn')\n",
    "sns.set_palette('deep')"
   ]
  },
  {
   "cell_type": "markdown",
   "metadata": {},
   "source": [
    "\n",
    "# %% [markdown]\n",
    "# ## 1. Data Loading & Preparation\n"
   ]
  },
  {
   "cell_type": "markdown",
   "metadata": {},
   "source": [
    "# %%\n",
    "# Load sample dat"
   ]
  },
  {
   "cell_type": "code",
   "execution_count": null,
   "metadata": {
    "vscode": {
     "languageId": "plaintext"
    }
   },
   "outputs": [],
   "source": [
    "ingestor = DataIngestor()\n",
    "data = ingestor.load_raw_data('../data/raw/sp500.csv')\n",
    "print(f\"Loaded {len(data)} data points\")\n",
    "data.head()\n"
   ]
  },
  {
   "cell_type": "markdown",
   "metadata": {},
   "source": [
    "# %% [markdown]\n",
    "# ## 2. Technical Analysis Visualization\n"
   ]
  },
  {
   "cell_type": "markdown",
   "metadata": {},
   "source": [
    "# %%\n",
    "# Calculate moving averages"
   ]
  },
  {
   "cell_type": "code",
   "execution_count": null,
   "metadata": {
    "vscode": {
     "languageId": "plaintext"
    }
   },
   "outputs": [],
   "source": [
    "data['SMA_50'] = data['close'].rolling(50).mean()\n",
    "data['SMA_200'] = data['close'].rolling(200).mean()\n",
    "\n",
    "# Plot price and indicators\n",
    "plt.figure(figsize=(14,7))\n",
    "plt.plot(data['close'], label='Closing Price')\n",
    "plt.plot(data['SMA_50'], label='50-day SMA')\n",
    "plt.plot(data['SMA_200'], label='200-day SMA')\n",
    "plt.title('Price and Moving Averages')\n",
    "plt.legend()\n",
    "plt.show()"
   ]
  }
 ],
 "metadata": {
  "language_info": {
   "name": "python"
  }
 },
 "nbformat": 4,
 "nbformat_minor": 2
}
